{
 "cells": [
  {
   "cell_type": "code",
   "execution_count": 1,
   "metadata": {},
   "outputs": [],
   "source": [
    "import tensorflow as tf\n",
    "import numpy as np"
   ]
  },
  {
   "cell_type": "code",
   "execution_count": 2,
   "metadata": {},
   "outputs": [
    {
     "name": "stdout",
     "output_type": "stream",
     "text": [
      "shapes: () (4,) (2, 2)\n",
      "Ranks: 0 1 2\n"
     ]
    }
   ],
   "source": [
    "# 获取张量的阶（从下面例子看到tf的计算过程）\n",
    "g = tf.Graph()\n",
    "# 定义一个计算图\n",
    "with g.as_default():\n",
    "    ## 定义张量t1,t2,t3\n",
    "    t1 = tf.constant(np.pi)\n",
    "    t2 = tf.constant([1, 2, 3, 4])\n",
    "    t3 = tf.constant([[1, 2], [3, 4]])\n",
    "\n",
    "    ## 获取张量的阶\n",
    "    r1 = tf.rank(t1)\n",
    "    r2 = tf.rank(t2)\n",
    "    r3 = tf.rank(t3)\n",
    "\n",
    "    ## 获取他们的shapes\n",
    "    s1 = t1.get_shape()\n",
    "    s2 = t2.get_shape()\n",
    "    s3 = t3.get_shape()\n",
    "    print(\"shapes:\", s1, s2, s3)\n",
    "# 启动前面定义的图来进行下一步操作\n",
    "with tf.Session(graph=g) as sess:\n",
    "    print(\"Ranks:\", r1.eval(), r2.eval(), r3.eval())"
   ]
  },
  {
   "cell_type": "code",
   "execution_count": 3,
   "metadata": {},
   "outputs": [
    {
     "name": "stdout",
     "output_type": "stream",
     "text": [
      "2*(a-b)+c => 1\n"
     ]
    }
   ],
   "source": [
    "# 初始化一个空的计算图\n",
    "g = tf.Graph()\n",
    "\n",
    "# 为该计算图加入节点（张量和操作）\n",
    "with g.as_default():\n",
    "    a = tf.constant(1,name=\"a\")\n",
    "    b = tf.constant(2,name=\"b\")\n",
    "    c = tf.constant(3,name=\"c\")\n",
    "    \n",
    "    z = 2*(a-b)+c\n",
    "    \n",
    "# 执行计算图\n",
    "## 通过调用tf.Session产生会话对象，该调用可以接受一个图为参数（这里是g），否则将启动默认的空图\n",
    "## 执行张量操作的用sess.run(),他将返回大小均匀的列表\n",
    "with tf.Session(graph=g) as sess:\n",
    "    print('2*(a-b)+c =>',sess.run(z))"
   ]
  },
  {
   "cell_type": "code",
   "execution_count": 4,
   "metadata": {},
   "outputs": [
    {
     "name": "stdout",
     "output_type": "stream",
     "text": [
      "z: 1\n"
     ]
    }
   ],
   "source": [
    "g = tf.Graph()\n",
    "\n",
    "with g.as_default():\n",
    "    tf_a = tf.placeholder(tf.int32,shape=(),name=\"tf_a\")  # shape=[]就是定义0阶张量,更高阶张量可以用【n1,n2,n3】表示，如shape=（3,4,5）\n",
    "    tf_b = tf.placeholder(tf.int32,shape=(),name=\"tf_b\")\n",
    "    tf_c = tf.placeholder(tf.int32,shape=(),name=\"tf_c\")\n",
    "    \n",
    "    r1 = tf_a - tf_b\n",
    "    r2 = 2*r1\n",
    "    z = r2 + tf_c\n",
    "with tf.Session(graph=g) as sess:\n",
    "    feed = {\n",
    "        tf_a:1,\n",
    "        tf_b:2,\n",
    "        tf_c:3\n",
    "    }\n",
    "    \n",
    "    print('z:',sess.run(z,feed_dict=feed))"
   ]
  },
  {
   "cell_type": "code",
   "execution_count": 5,
   "metadata": {},
   "outputs": [
    {
     "name": "stdout",
     "output_type": "stream",
     "text": [
      "Feeding data with shape (5, 2)\n",
      "Result: [0.6208972  0.46750155]\n",
      "Feeding data with shape (10, 2)\n",
      "Result: [0.46306401 0.48766556]\n"
     ]
    }
   ],
   "source": [
    "\n",
    "g = tf.Graph()\n",
    "\n",
    "with g.as_default():\n",
    "    tf_x = tf.placeholder(tf.float32,shape=(None,2),name=\"tf_x\")\n",
    "    x_mean = tf.reduce_mean(tf_x,axis=0,name=\"mean\")\n",
    "    \n",
    "np.random.seed(123)\n",
    "with tf.Session(graph=g) as sess:\n",
    "    x1 = np.random.uniform(low=0,high=1,size=(5,2))\n",
    "    print(\"Feeding data with shape\",x1.shape)\n",
    "    print(\"Result:\",sess.run(x_mean,feed_dict={tf_x:x1}))\n",
    "    \n",
    "    x2 = np.random.uniform(low=0,high=1,size=(10,2))\n",
    "    print(\"Feeding data with shape\",x2.shape)\n",
    "    print(\"Result:\",sess.run(x_mean,feed_dict={tf_x:x2}))"
   ]
  },
  {
   "cell_type": "code",
   "execution_count": 6,
   "metadata": {},
   "outputs": [
    {
     "name": "stdout",
     "output_type": "stream",
     "text": [
      "<tf.Variable 'w:0' shape=(2, 4) dtype=int32_ref>\n"
     ]
    }
   ],
   "source": [
    "g1 = tf.Graph()\n",
    "\n",
    "with g1.as_default():\n",
    "    w = tf.Variable(np.array([[1,2,3,4],[5,6,7,8]]),name=\"w\")\n",
    "    print(w)"
   ]
  },
  {
   "cell_type": "code",
   "execution_count": 7,
   "metadata": {},
   "outputs": [
    {
     "name": "stdout",
     "output_type": "stream",
     "text": [
      "[[1 2 3 4]\n",
      " [5 6 7 8]]\n"
     ]
    }
   ],
   "source": [
    "with tf.Session(graph=g1) as sess:\n",
    "    sess.run(tf.global_variables_initializer())\n",
    "    print(sess.run(w))"
   ]
  },
  {
   "cell_type": "code",
   "execution_count": 14,
   "metadata": {},
   "outputs": [
    {
     "name": "stdout",
     "output_type": "stream",
     "text": [
      "w1: 1\n"
     ]
    }
   ],
   "source": [
    "# 我们来比较定义变量与初始化顺序的关系\n",
    "g2 = tf.Graph()\n",
    "\n",
    "with g2.as_default():\n",
    "    w1 = tf.Variable(1,name=\"w1\")\n",
    "    init_op = tf.global_variables_initializer()\n",
    "    w2 = tf.Variable(2,name=\"w2\")\n",
    "    \n",
    "with tf.Session(graph=g2) as sess:\n",
    "    sess.run(init_op)\n",
    "    print(\"w1:\",sess.run(w1))\n",
    "# with tf.Session(graph=g2) as sess:    \n",
    "#     sess.run(init_op)\n",
    "#     print(\"w2:\",sess.run(w2))"
   ]
  },
  {
   "cell_type": "code",
   "execution_count": null,
   "metadata": {},
   "outputs": [],
   "source": []
  },
  {
   "cell_type": "code",
   "execution_count": 15,
   "metadata": {},
   "outputs": [
    {
     "name": "stdout",
     "output_type": "stream",
     "text": [
      "<tf.Variable 'net_A/layer-1/weights:0' shape=(10, 4) dtype=float32_ref>\n",
      "<tf.Variable 'net_A/layer-2/weights:0' shape=(20, 10) dtype=float32_ref>\n",
      "<tf.Variable 'net_B/layer-2/weights:0' shape=(10, 4) dtype=float32_ref>\n"
     ]
    }
   ],
   "source": [
    "\n",
    "g = tf.Graph()\n",
    "\n",
    "with g.as_default():\n",
    "    with tf.variable_scope(\"net_A\"):   #定义一个域net_A\n",
    "        with tf.variable_scope(\"layer-1\"): # 在域net_A下再定义一个域layer-1\n",
    "            w1 = tf.Variable(tf.random_normal(shape=(10,4)),name=\"weights\")   # 该变量定义在net_A/layer-1域下\n",
    "        with tf.variable_scope(\"layer-2\"):\n",
    "            w2 = tf.Variable(tf.random_normal(shape=(20,10)),name=\"weights\")\n",
    "    with tf.variable_scope(\"net_B\"):   # 定义一个域net_B\n",
    "        with tf.variable_scope(\"layer-2\"):\n",
    "            w3 = tf.Variable(tf.random_normal(shape=(10,4)),name=\"weights\")\n",
    "    print(w1)\n",
    "    print(w2)\n",
    "    print(w3)"
   ]
  },
  {
   "cell_type": "code",
   "execution_count": 16,
   "metadata": {},
   "outputs": [
    {
     "data": {
      "image/png": "[encoded data removed]",
      "text/plain": [
       "<Figure size 432x288 with 1 Axes>"
      ]
     },
     "metadata": {
      "needs_background": "light"
     },
     "output_type": "display_data"
    }
   ],
   "source": [
    "import tensorflow  as tf\n",
    "import numpy as np\n",
    "import matplotlib.pyplot as plt\n",
    "%matplotlib inline\n",
    "\n",
    "g = tf.Graph()\n",
    "\n",
    "# 定义计算图\n",
    "with g.as_default():\n",
    "    tf.set_random_seed(123)\n",
    "    \n",
    "    ## placeholder\n",
    "    tf_x = tf.placeholder(shape=(None),dtype=tf.float32,name=\"tf_x\")\n",
    "    tf_y = tf.placeholder(shape=(None),dtype=tf.float32,name=\"tf_y\")\n",
    "    \n",
    "    ## define the variable (model parameters)\n",
    "    weight = tf.Variable(tf.random_normal(shape=(1,1),stddev=0.25),name=\"weight\")\n",
    "    bias = tf.Variable(0.0,name=\"bias\")\n",
    "    \n",
    "    ## build the model\n",
    "    y_hat = tf.add(weight*tf_x,bias,name=\"y_hat\")\n",
    "    \n",
    "    ## compute the cost\n",
    "    cost = tf.reduce_mean(tf.square(tf_y-y_hat),name=\"cost\")\n",
    "    \n",
    "    ## train the model\n",
    "    optim = tf.train.GradientDescentOptimizer(learning_rate=0.001)\n",
    "    train_op = optim.minimize(cost,name=\"train_op\")\n",
    "# 创建会话启动计算图并训练模型\n",
    "## create a random toy dataset for regression\n",
    "np.random.seed(0)\n",
    "def make_random_data():\n",
    "    x = np.random.uniform(low=-2,high=4,size=100)\n",
    "    y = []\n",
    "    for t in x:\n",
    "        r = np.random.normal(loc=0.0,scale=(0.5 + t*t/3),size=None)\n",
    "        y.append(r)\n",
    "    return x,1.726*x-0.84+np.array(y)\n",
    "\n",
    "x,y = make_random_data()\n",
    "\n",
    "plt.plot(x,y,'o')\n",
    "plt.show()"
   ]
  },
  {
   "cell_type": "code",
   "execution_count": 17,
   "metadata": {},
   "outputs": [
    {
     "name": "stdout",
     "output_type": "stream",
     "text": [
      "Epoch    0: 17.0139\n",
      "Epoch   50: 10.4458\n",
      "Epoch  100: 7.4019\n",
      "Epoch  150: 5.9672\n",
      "Epoch  200: 5.2706\n",
      "Epoch  250: 4.9156\n",
      "Epoch  300: 4.7212\n",
      "Epoch  350: 4.6044\n",
      "Epoch  400: 4.5269\n",
      "Epoch  450: 4.4707\n"
     ]
    },
    {
     "data": {
      "image/png": "[encoded data removed]",
      "text/plain": [
       "<Figure size 432x288 with 1 Axes>"
      ]
     },
     "metadata": {
      "needs_background": "light"
     },
     "output_type": "display_data"
    }
   ],
   "source": [
    "## train/test splits\n",
    "x_train,y_train = x[:100],y[:100]\n",
    "x_test,y_test = x[100:],y[100:]\n",
    "\n",
    "n_epochs = 500\n",
    "train_costs  = []\n",
    "with tf.Session(graph=g) as sess:\n",
    "    sess.run(tf.global_variables_initializer())\n",
    "    \n",
    "    ## train the model for n_epochs\n",
    "    for e in range(n_epochs):\n",
    "        c,_ = sess.run([cost,train_op],feed_dict={tf_x:x_train,tf_y:y_train})\n",
    "        train_costs.append(c)\n",
    "        if not e % 50:\n",
    "            print(\"Epoch %4d: %.4f\"%(e,c))\n",
    "plt.plot(train_costs)\n",
    "plt.show()"
   ]
  },
  {
   "cell_type": "code",
   "execution_count": 18,
   "metadata": {},
   "outputs": [
    {
     "name": "stdout",
     "output_type": "stream",
     "text": [
      "Epoch    0: 17.0139\n",
      "Epoch   50: 10.4458\n",
      "Epoch  100: 7.4019\n",
      "Epoch  150: 5.9672\n",
      "Epoch  200: 5.2706\n",
      "Epoch  250: 4.9156\n",
      "Epoch  300: 4.7212\n",
      "Epoch  350: 4.6044\n",
      "Epoch  400: 4.5269\n",
      "Epoch  450: 4.4707\n"
     ]
    }
   ],
   "source": [
    "\n",
    "## train/test splits\n",
    "x_train,y_train = x[:100],y[:100]\n",
    "x_test,y_test = x[100:],y[100:]\n",
    "\n",
    "n_epochs = 500\n",
    "train_costs  = []\n",
    "with tf.Session(graph=g) as sess:\n",
    "    sess.run(tf.global_variables_initializer())\n",
    "    \n",
    "    ## train the model for n_epochs\n",
    "    for e in range(n_epochs):\n",
    "        c,_ = sess.run(['cost:0','train_op'],feed_dict={'tf_x:0':x_train,'tf_y:0':y_train})\n",
    "        train_costs.append(c)\n",
    "        if not e % 50:\n",
    "            print(\"Epoch %4d: %.4f\"%(e,c))"
   ]
  },
  {
   "cell_type": "code",
   "execution_count": 20,
   "metadata": {},
   "outputs": [
    {
     "data": {
      "image/png": "[encoded data removed]",
      "text/plain": [
       "<Figure size 432x288 with 1 Axes>"
      ]
     },
     "metadata": {
      "needs_background": "light"
     },
     "output_type": "display_data"
    },
    {
     "name": "stdout",
     "output_type": "stream",
     "text": [
      "Epoch    0: 17.0139\n",
      "Epoch   50: 10.4458\n",
      "Epoch  100: 7.4019\n",
      "Epoch  150: 5.9672\n",
      "Epoch  200: 5.2706\n",
      "Epoch  250: 4.9156\n",
      "Epoch  300: 4.7212\n",
      "Epoch  350: 4.6044\n",
      "Epoch  400: 4.5269\n",
      "Epoch  450: 4.4707\n"
     ]
    }
   ],
   "source": [
    "g = tf.Graph()\n",
    "\n",
    "# 定义计算图\n",
    "with g.as_default():\n",
    "    tf.set_random_seed(123)\n",
    "    \n",
    "    ## placeholder\n",
    "    tf_x = tf.placeholder(shape=(None),dtype=tf.float32,name=\"tf_x\")\n",
    "    tf_y = tf.placeholder(shape=(None),dtype=tf.float32,name=\"tf_y\")\n",
    "    \n",
    "    ## define the variable (model parameters)\n",
    "    weight = tf.Variable(tf.random_normal(shape=(1,1),stddev=0.25),name=\"weight\")\n",
    "    bias = tf.Variable(0.0,name=\"bias\")\n",
    "    \n",
    "    ## build the model\n",
    "    y_hat = tf.add(weight*tf_x,bias,name=\"y_hat\")\n",
    "    \n",
    "    ## compute the cost\n",
    "    cost = tf.reduce_mean(tf.square(tf_y-y_hat),name=\"cost\")\n",
    "    \n",
    "    ## train the model\n",
    "    optim = tf.train.GradientDescentOptimizer(learning_rate=0.001)\n",
    "    train_op = optim.minimize(cost,name=\"train_op\")\n",
    "    saver = tf.train.Saver()\n",
    "# 创建会话启动计算图并训练模型\n",
    "## create a random toy dataset for regression\n",
    "np.random.seed(0)\n",
    "def make_random_data():\n",
    "    x = np.random.uniform(low=-2,high=4,size=100)\n",
    "    y = []\n",
    "    for t in x:\n",
    "        r = np.random.normal(loc=0.0,scale=(0.5 + t*t/3),size=None)\n",
    "        y.append(r)\n",
    "    return x,1.726*x-0.84+np.array(y)\n",
    "\n",
    "x,y = make_random_data()\n",
    "\n",
    "plt.plot(x,y,'o')\n",
    "plt.show()\n",
    "\n",
    "## train/test splits\n",
    "x_train,y_train = x[:100],y[:100]\n",
    "x_test,y_test = x[100:],y[100:]\n",
    "\n",
    "n_epochs = 500\n",
    "train_costs  = []\n",
    "with tf.Session(graph=g) as sess:\n",
    "    sess.run(tf.global_variables_initializer())\n",
    "    \n",
    "    ## train the model for n_epochs\n",
    "    for e in range(n_epochs):\n",
    "        c,_ = sess.run(['cost:0','train_op'],feed_dict={'tf_x:0':x_train,'tf_y:0':y_train})\n",
    "        train_costs.append(c)\n",
    "        if not e % 50:\n",
    "            print(\"Epoch %4d: %.4f\"%(e,c))\n",
    "    saver.save(sess,'trained-model/')"
   ]
  },
  {
   "cell_type": "code",
   "execution_count": 21,
   "metadata": {},
   "outputs": [
    {
     "name": "stdout",
     "output_type": "stream",
     "text": [
      "INFO:tensorflow:Restoring parameters from trained-model/\n"
     ]
    }
   ],
   "source": [
    "\n",
    "# 加载保存的模型g2 = tf.Graph()\n",
    "with tf.Session(graph=g2) as sess:\n",
    "    new_saver = tf.train.import_meta_graph(\"trained-model/.meta\")\n",
    "    new_saver.restore(sess,'trained-model/')\n",
    "    y_pred = sess.run('y_hat:0',feed_dict={'tf_x:0':x_test})"
   ]
  },
  {
   "cell_type": "code",
   "execution_count": 23,
   "metadata": {},
   "outputs": [
    {
     "name": "stdout",
     "output_type": "stream",
     "text": [
      "INFO:tensorflow:Restoring parameters from trained-model/\n"
     ]
    },
    {
     "data": {
      "image/png": "[encoded data removed]",
      "text/plain": [
       "<Figure size 432x288 with 1 Axes>"
      ]
     },
     "metadata": {
      "needs_background": "light"
     },
     "output_type": "display_data"
    }
   ],
   "source": [
    "## 可视化模型\n",
    "x_arr = np.arange(-2,4,0.1)\n",
    "g2 = tf.Graph()\n",
    "with tf.Session(graph=g2) as sess:\n",
    "    new_saver = tf.train.import_meta_graph(\"trained-model/.meta\")\n",
    "    new_saver.restore(sess,'trained-model/')\n",
    "    y_arr = sess.run('y_hat:0',feed_dict={'tf_x:0':x_arr})\n",
    "    plt.figure()\n",
    "    plt.plot(x_train,y_train,'bo')\n",
    "    plt.plot(x_test,y_test,'bo',alpha=0.3)\n",
    "    plt.plot(x_arr,y_arr.T[:,0],'-r',lw=3)\n",
    "    plt.show()"
   ]
  },
  {
   "cell_type": "code",
   "execution_count": 24,
   "metadata": {},
   "outputs": [
    {
     "name": "stdout",
     "output_type": "stream",
     "text": [
      "Tensor(\"T1:0\", shape=(3, 4), dtype=float64)\n",
      "Shape of T1 is  (3, 4)\n",
      "<tf.Variable 'Variable:0' shape=(3, 4) dtype=float32_ref>\n",
      "<tf.Variable 'Variable_1:0' shape=(3,) dtype=float32_ref>\n"
     ]
    }
   ],
   "source": [
    "\n",
    "g = tf.Graph()\n",
    "\n",
    "with g.as_default():\n",
    "    arr = np.array([[1.,2.,3.,3.5],[4.,5.,6.,6.5],[7.,8.,9.,9.5]])\n",
    "    T1 = tf.constant(arr,name=\"T1\")\n",
    "    print(T1)\n",
    "    s = T1.get_shape()\n",
    "    print(\"Shape of T1 is \",s)\n",
    "    T2 = tf.Variable(tf.random_normal(shape=s))\n",
    "    print(T2)\n",
    "    T3 = tf.Variable(tf.random_normal(shape=(s.as_list()[0],)))\n",
    "    print(T3)"
   ]
  },
  {
   "cell_type": "code",
   "execution_count": 25,
   "metadata": {},
   "outputs": [
    {
     "name": "stdout",
     "output_type": "stream",
     "text": [
      "Tensor(\"T4:0\", shape=(1, 1, 12), dtype=float64)\n",
      "Tensor(\"T5:0\", shape=(1, 3, 4), dtype=float64)\n"
     ]
    }
   ],
   "source": [
    "with g.as_default():\n",
    "    T4 = tf.reshape(T1,shape=[1,1,-1],name=\"T4\")\n",
    "    print(T4)\n",
    "    T5 = tf.reshape(T1,shape=[1,3,-1],name=\"T5\")\n",
    "    print(T5)"
   ]
  },
  {
   "cell_type": "code",
   "execution_count": 26,
   "metadata": {},
   "outputs": [
    {
     "name": "stdout",
     "output_type": "stream",
     "text": [
      "[[[1.  2.  3.  3.5 4.  5.  6.  6.5 7.  8.  9.  9.5]]]\n",
      "\n",
      "[[[1.  2.  3.  3.5]\n",
      "  [4.  5.  6.  6.5]\n",
      "  [7.  8.  9.  9.5]]]\n"
     ]
    }
   ],
   "source": [
    "with tf.Session(graph=g) as sess:\n",
    "    print(sess.run(T4))\n",
    "    print()\n",
    "    print(sess.run(T5))"
   ]
  },
  {
   "cell_type": "code",
   "execution_count": 27,
   "metadata": {},
   "outputs": [
    {
     "name": "stdout",
     "output_type": "stream",
     "text": [
      "[<tf.Tensor 'T8:0' shape=(1, 3, 2) dtype=float64>, <tf.Tensor 'T8:1' shape=(1, 3, 2) dtype=float64>]\n"
     ]
    }
   ],
   "source": [
    "\n",
    "with g.as_default():\n",
    "    tf_splt = tf.split(T5,num_or_size_splits=2,axis=2,name=\"T8\")\n",
    "    print(tf_splt)"
   ]
  },
  {
   "cell_type": "code",
   "execution_count": 28,
   "metadata": {},
   "outputs": [
    {
     "name": "stdout",
     "output_type": "stream",
     "text": [
      "Tensor(\"t1:0\", shape=(5, 1), dtype=float32)\n",
      "Tensor(\"t2:0\", shape=(5, 1), dtype=float32)\n"
     ]
    }
   ],
   "source": [
    "\n",
    "g = tf.Graph()\n",
    "\n",
    "with g.as_default():\n",
    "    t1 = tf.ones(shape=(5,1),dtype=tf.float32,name=\"t1\")\n",
    "    t2 = tf.zeros(shape=(5,1),dtype=tf.float32,name=\"t2\")\n",
    "    print(t1)\n",
    "    print(t2)"
   ]
  },
  {
   "cell_type": "code",
   "execution_count": 29,
   "metadata": {},
   "outputs": [
    {
     "name": "stdout",
     "output_type": "stream",
     "text": [
      "Tensor(\"t3:0\", shape=(10, 1), dtype=float32)\n",
      "Tensor(\"t4:0\", shape=(5, 2), dtype=float32)\n"
     ]
    }
   ],
   "source": [
    "\n",
    "with g.as_default():\n",
    "    t3 = tf.concat([t1,t2],axis=0,name=\"t3\")\n",
    "    print(t3)\n",
    "    t4 = tf.concat([t1,t2],axis=1,name=\"t4\")\n",
    "    print(t4)"
   ]
  },
  {
   "cell_type": "code",
   "execution_count": 30,
   "metadata": {},
   "outputs": [
    {
     "name": "stdout",
     "output_type": "stream",
     "text": [
      "[[1.]\n",
      " [1.]\n",
      " [1.]\n",
      " [1.]\n",
      " [1.]\n",
      " [0.]\n",
      " [0.]\n",
      " [0.]\n",
      " [0.]\n",
      " [0.]]\n",
      "\n",
      "[[1. 0.]\n",
      " [1. 0.]\n",
      " [1. 0.]\n",
      " [1. 0.]\n",
      " [1. 0.]]\n"
     ]
    }
   ],
   "source": [
    "with tf.Session(graph=g) as sess:\n",
    "    print(t3.eval())\n",
    "    print()\n",
    "    print(t4.eval())"
   ]
  },
  {
   "cell_type": "code",
   "execution_count": 32,
   "metadata": {},
   "outputs": [
    {
     "name": "stdout",
     "output_type": "stream",
     "text": [
      "[[1.]\n",
      " [1.]\n",
      " [1.]\n",
      " [1.]\n",
      " [1.]\n",
      " [0.]\n",
      " [0.]\n",
      " [0.]\n",
      " [0.]\n",
      " [0.]]\n",
      "\n",
      "[[1. 0.]\n",
      " [1. 0.]\n",
      " [1. 0.]\n",
      " [1. 0.]\n",
      " [1. 0.]]\n"
     ]
    }
   ],
   "source": [
    "\n",
    "with tf.Session(graph=g) as sess:   \n",
    "    print(sess.run(t3))\n",
    "    print()\n",
    "    print(sess.run(t4))"
   ]
  },
  {
   "cell_type": "code",
   "execution_count": 34,
   "metadata": {},
   "outputs": [
    {
     "name": "stdout",
     "output_type": "stream",
     "text": [
      "Object: Tensor(\"cond/Merge:0\", dtype=float32)\n",
      "x<y: True -> Result: 3.0\n",
      "x<y: False -> Result: 1.0\n"
     ]
    }
   ],
   "source": [
    "\n",
    "x,y = 1.0,2.0\n",
    "\n",
    "g = tf.Graph()\n",
    "\n",
    "with g.as_default():\n",
    "    tf_x = tf.placeholder(dtype=tf.float32,shape=None,name=\"tf_x\")\n",
    "    tf_y = tf.placeholder(dtype=tf.float32,shape=None,name=\"tf_y\")\n",
    "    res = tf.cond(tf_x<tf_y,lambda: tf.add(tf_x,tf_y,name=\"result_add\"),lambda: tf.subtract(tf_x,tf_y,name=\"result_sub\"))\n",
    "    print(\"Object:\",res)  #对象被命名为\"cond/Merge:0\"\n",
    "    \n",
    "with tf.Session(graph=g) as sess:\n",
    "    print(\"x<y: %s -> Result:\"%(x<y),res.eval(feed_dict={\"tf_x:0\":x,\"tf_y:0\":y}))\n",
    "    x,y = 2.0,1.0\n",
    "    print(\"x<y: %s -> Result:\"%(x<y),res.eval(feed_dict={\"tf_x:0\":x,\"tf_y:0\":y}))"
   ]
  },
  {
   "cell_type": "code",
   "execution_count": 35,
   "metadata": {},
   "outputs": [
    {
     "name": "stdout",
     "output_type": "stream",
     "text": [
      "Tensor(\"case/cond/Merge:0\", shape=(), dtype=int32)\n"
     ]
    }
   ],
   "source": [
    "\n",
    "f1 = lambda: tf.constant(1)\n",
    "f2 = lambda: tf.constant(0)\n",
    "result = tf.case([(tf.less(x,y),f1)],default=f2)\n",
    "print(result)"
   ]
  },
  {
   "cell_type": "code",
   "execution_count": 36,
   "metadata": {},
   "outputs": [
    {
     "name": "stdout",
     "output_type": "stream",
     "text": [
      "Tensor(\"while/Exit:0\", shape=(), dtype=int32)\n"
     ]
    }
   ],
   "source": [
    "i = tf.constant(0)\n",
    "threshold = 100\n",
    "c = lambda i: tf.less(i,100)\n",
    "b = lambda i: tf.add(i,1)\n",
    "r = tf.while_loop(cond=c,body=b,loop_vars=[i])\n",
    "print(r)"
   ]
  },
  {
   "cell_type": "code",
   "execution_count": 38,
   "metadata": {},
   "outputs": [
    {
     "name": "stdout",
     "output_type": "stream",
     "text": [
      "<tf.Variable 'classifier/weights:0' shape=(100, 2) dtype=float32_ref>\n",
      "<tf.Variable 'classifier/bias:0' shape=(2,) dtype=float32_ref>\n",
      "Tensor(\"classifier/logits:0\", shape=(64, 2), dtype=float32)\n",
      "<tf.Variable 'classifier/weights:0' shape=(100, 2) dtype=float32_ref>\n",
      "<tf.Variable 'classifier/bias:0' shape=(2,) dtype=float32_ref>\n",
      "Tensor(\"classifier/logits_1:0\", shape=(64, 2), dtype=float32)\n"
     ]
    }
   ],
   "source": [
    "def build_classifier(data, labels, n_classes=2):\n",
    "    data_shape = data.get_shape().as_list()\n",
    "    weights = tf.get_variable(name='weights',\n",
    "                              shape=(data_shape[1], n_classes),\n",
    "                              dtype=tf.float32)\n",
    "    bias = tf.get_variable(name='bias',\n",
    "                           initializer=tf.zeros(shape=n_classes))\n",
    "    print(weights)\n",
    "    print(bias)\n",
    "    logits = tf.add(tf.matmul(data, weights),\n",
    "                    bias,\n",
    "                    name='logits')\n",
    "    print(logits)\n",
    "    return logits, tf.nn.softmax(logits)\n",
    "\n",
    "def build_generator(data, n_hidden):\n",
    "    data_shape = data.get_shape().as_list()\n",
    "    w1 = tf.Variable(\n",
    "        tf.random_normal(shape=(data_shape[1],\n",
    "                                n_hidden)),\n",
    "        name='w1')\n",
    "    b1 = tf.Variable(tf.zeros(shape=n_hidden),\n",
    "                     name='b1')\n",
    "    hidden = tf.add(tf.matmul(data, w1), b1,\n",
    "                    name='hidden_pre-activation')\n",
    "    hidden = tf.nn.relu(hidden, 'hidden_activation')\n",
    "        \n",
    "    w2 = tf.Variable(\n",
    "        tf.random_normal(shape=(n_hidden,\n",
    "                                data_shape[1])),\n",
    "        name='w2')\n",
    "    b2 = tf.Variable(tf.zeros(shape=data_shape[1]),\n",
    "                     name='b2')\n",
    "    output = tf.add(tf.matmul(hidden, w2), b2,\n",
    "                    name = 'output')\n",
    "    return output, tf.nn.sigmoid(output)\n",
    "\n",
    "batch_size=64\n",
    "g = tf.Graph()\n",
    "\n",
    "with g.as_default():\n",
    "    tf_X = tf.placeholder(shape=(batch_size, 100),\n",
    "                          dtype=tf.float32,\n",
    "                          name='tf_X')\n",
    "    ## build the generator\n",
    "    with tf.variable_scope('generator'):\n",
    "        gen_out1 = build_generator(data=tf_X,\n",
    "                                   n_hidden=50)\n",
    "    \n",
    "    ## build the classifier\n",
    "    with tf.variable_scope('classifier') as scope:\n",
    "        ## classifier for the original data:\n",
    "        cls_out1 = build_classifier(data=tf_X,\n",
    "                                    labels=tf.ones(\n",
    "                                        shape=batch_size))\n",
    "        \n",
    "        ## reuse the classifier for generated data\n",
    "        scope.reuse_variables()\n",
    "        cls_out2 = build_classifier(data=gen_out1[1],\n",
    "                                    labels=tf.zeros(\n",
    "                                        shape=batch_size))\n",
    "        \n",
    "        init_op = tf.global_variables_initializer()"
   ]
  },
  {
   "cell_type": "code",
   "execution_count": 39,
   "metadata": {},
   "outputs": [],
   "source": [
    "with tf.Session(graph=g) as sess:\n",
    "    sess.run(tf.global_variables_initializer())\n",
    "    file_writer = tf.summary.FileWriter(logdir=\"trained-model/logs/\",graph=g)"
   ]
  },
  {
   "cell_type": "code",
   "execution_count": null,
   "metadata": {},
   "outputs": [],
   "source": [
    "\n"
   ]
  },
  {
   "cell_type": "code",
   "execution_count": null,
   "metadata": {},
   "outputs": [],
   "source": []
  }
 ],
 "metadata": {
  "kernelspec": {
   "display_name": "tf",
   "language": "python",
   "name": "tf"
  },
  "language_info": {
   "codemirror_mode": {
    "name": "ipython",
    "version": 3
   },
   "file_extension": ".py",
   "mimetype": "text/x-python",
   "name": "python",
   "nbconvert_exporter": "python",
   "pygments_lexer": "ipython3",
   "version": "3.6.10"
  }
 },
 "nbformat": 4,
 "nbformat_minor": 2
}
